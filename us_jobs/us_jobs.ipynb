{
 "cells": [
  {
   "cell_type": "code",
   "execution_count": null,
   "metadata": {},
   "outputs": [],
   "source": [
    "## Collects job summaries from indeed.com\n",
    "\n",
    "- client's goal to do a sentiment analyses on the different job types"
   ]
  },
  {
   "cell_type": "code",
   "execution_count": 4,
   "metadata": {},
   "outputs": [],
   "source": [
    "import requests\n",
    "from bs4 import BeautifulSoup\n",
    "import csv\n",
    "import sys\n",
    "import datetime\n",
    "from lxml import etree\n",
    "try:\n",
    "    from urlparse import urljoin\n",
    "except:\n",
    "    from urllib.parse import urljoin\n",
    "\n",
    "url = \"https://www.indeed.com/jobs?q=%240+-+%2422%2C000&l=Detroit&radius=100&sort=date&fromage=3&start=\"\n",
    "belsolink = \"https://www.indeed.com/viewjob?jk=\""
   ]
  },
  {
   "cell_type": "code",
   "execution_count": 5,
   "metadata": {},
   "outputs": [],
   "source": [
    "## functions to transform and to double check\n",
    "#checks websites excistence and creates soup\n",
    "def get_page(url):\n",
    "    page = requests.get(url)\n",
    "    if page.status_code == requests.codes.ok:\n",
    "        return BeautifulSoup(page.content, 'lxml')\n",
    "    \n",
    "# get links from a page\n",
    "def get_links(url):\n",
    "    soup = get_page(url).find_all(attrs = {\"class\":\"jobtitle\"})\n",
    "    linklist = list()\n",
    "    for i in range (len(soup)):\n",
    "        linklist.append(soup[i].find(attrs = {\"class\":\"turnstileLink\"}).get('href'))\n",
    "    return (linklist)\n",
    "\n",
    "# downloading summary text within a page\n",
    "def oldalbeolvas(url):\n",
    "    soup2 = (get_page(url).find_all(attrs = {\"class\":\"summary\"}))[0].text\n",
    "    return(soup2)"
   ]
  },
  {
   "cell_type": "code",
   "execution_count": 6,
   "metadata": {},
   "outputs": [
    {
     "ename": "AttributeError",
     "evalue": "'NoneType' object has no attribute 'get'",
     "output_type": "error",
     "traceback": [
      "\u001b[1;31m---------------------------------------------------------------------------\u001b[0m",
      "\u001b[1;31mAttributeError\u001b[0m                            Traceback (most recent call last)",
      "\u001b[1;32m<ipython-input-6-770966958ad2>\u001b[0m in \u001b[0;36m<module>\u001b[1;34m\u001b[0m\n\u001b[0;32m      5\u001b[0m \u001b[1;32mfor\u001b[0m \u001b[0mi\u001b[0m \u001b[1;32min\u001b[0m \u001b[0mrange\u001b[0m\u001b[1;33m(\u001b[0m\u001b[1;36m0\u001b[0m\u001b[1;33m,\u001b[0m\u001b[0moldalszam\u001b[0m\u001b[1;33m)\u001b[0m\u001b[1;33m:\u001b[0m\u001b[1;33m\u001b[0m\u001b[1;33m\u001b[0m\u001b[0m\n\u001b[0;32m      6\u001b[0m     \u001b[0mj\u001b[0m\u001b[1;33m=\u001b[0m\u001b[0mi\u001b[0m\u001b[1;33m*\u001b[0m\u001b[1;36m10\u001b[0m\u001b[1;33m\u001b[0m\u001b[1;33m\u001b[0m\u001b[0m\n\u001b[1;32m----> 7\u001b[1;33m     \u001b[0mosszeslink\u001b[0m\u001b[1;33m.\u001b[0m\u001b[0mappend\u001b[0m\u001b[1;33m(\u001b[0m\u001b[0mget_links\u001b[0m\u001b[1;33m(\u001b[0m\u001b[1;33m(\u001b[0m\u001b[0murl\u001b[0m\u001b[1;33m+\u001b[0m\u001b[0mstr\u001b[0m\u001b[1;33m(\u001b[0m\u001b[0mj\u001b[0m\u001b[1;33m)\u001b[0m\u001b[1;33m)\u001b[0m\u001b[1;33m)\u001b[0m\u001b[1;33m)\u001b[0m\u001b[1;33m\u001b[0m\u001b[1;33m\u001b[0m\u001b[0m\n\u001b[0m\u001b[0;32m      8\u001b[0m \u001b[0mall_time\u001b[0m \u001b[1;33m=\u001b[0m \u001b[0mdatetime\u001b[0m\u001b[1;33m.\u001b[0m\u001b[0mdatetime\u001b[0m\u001b[1;33m.\u001b[0m\u001b[0mnow\u001b[0m\u001b[1;33m(\u001b[0m\u001b[1;33m)\u001b[0m \u001b[1;33m-\u001b[0m \u001b[0mstart\u001b[0m\u001b[1;33m\u001b[0m\u001b[1;33m\u001b[0m\u001b[0m\n\u001b[0;32m      9\u001b[0m \u001b[0mprint\u001b[0m \u001b[1;33m(\u001b[0m\u001b[1;34m'A lefutási idő: '\u001b[0m \u001b[1;33m+\u001b[0m \u001b[0mstr\u001b[0m\u001b[1;33m(\u001b[0m\u001b[0mall_time\u001b[0m\u001b[1;33m)\u001b[0m\u001b[1;33m)\u001b[0m\u001b[1;33m\u001b[0m\u001b[1;33m\u001b[0m\u001b[0m\n",
      "\u001b[1;32m<ipython-input-5-f99e24b907de>\u001b[0m in \u001b[0;36mget_links\u001b[1;34m(url)\u001b[0m\n\u001b[0;32m     11\u001b[0m     \u001b[0mlinklist\u001b[0m \u001b[1;33m=\u001b[0m \u001b[0mlist\u001b[0m\u001b[1;33m(\u001b[0m\u001b[1;33m)\u001b[0m\u001b[1;33m\u001b[0m\u001b[1;33m\u001b[0m\u001b[0m\n\u001b[0;32m     12\u001b[0m     \u001b[1;32mfor\u001b[0m \u001b[0mi\u001b[0m \u001b[1;32min\u001b[0m \u001b[0mrange\u001b[0m \u001b[1;33m(\u001b[0m\u001b[0mlen\u001b[0m\u001b[1;33m(\u001b[0m\u001b[0msoup\u001b[0m\u001b[1;33m)\u001b[0m\u001b[1;33m)\u001b[0m\u001b[1;33m:\u001b[0m\u001b[1;33m\u001b[0m\u001b[1;33m\u001b[0m\u001b[0m\n\u001b[1;32m---> 13\u001b[1;33m         \u001b[0mlinklist\u001b[0m\u001b[1;33m.\u001b[0m\u001b[0mappend\u001b[0m\u001b[1;33m(\u001b[0m\u001b[0msoup\u001b[0m\u001b[1;33m[\u001b[0m\u001b[0mi\u001b[0m\u001b[1;33m]\u001b[0m\u001b[1;33m.\u001b[0m\u001b[0mfind\u001b[0m\u001b[1;33m(\u001b[0m\u001b[0mattrs\u001b[0m \u001b[1;33m=\u001b[0m \u001b[1;33m{\u001b[0m\u001b[1;34m\"class\"\u001b[0m\u001b[1;33m:\u001b[0m\u001b[1;34m\"turnstileLink\"\u001b[0m\u001b[1;33m}\u001b[0m\u001b[1;33m)\u001b[0m\u001b[1;33m.\u001b[0m\u001b[0mget\u001b[0m\u001b[1;33m(\u001b[0m\u001b[1;34m'href'\u001b[0m\u001b[1;33m)\u001b[0m\u001b[1;33m)\u001b[0m\u001b[1;33m\u001b[0m\u001b[1;33m\u001b[0m\u001b[0m\n\u001b[0m\u001b[0;32m     14\u001b[0m     \u001b[1;32mreturn\u001b[0m \u001b[1;33m(\u001b[0m\u001b[0mlinklist\u001b[0m\u001b[1;33m)\u001b[0m\u001b[1;33m\u001b[0m\u001b[1;33m\u001b[0m\u001b[0m\n\u001b[0;32m     15\u001b[0m \u001b[1;33m\u001b[0m\u001b[0m\n",
      "\u001b[1;31mAttributeError\u001b[0m: 'NoneType' object has no attribute 'get'"
     ]
    }
   ],
   "source": [
    "## opens a 100 page based on url and gets all link from each page, returns number of succesfull pages and running time\n",
    "osszeslink = list()\n",
    "oldalszam=100 \n",
    "start = datetime.datetime.now()\n",
    "for i in range(0,oldalszam):\n",
    "    j=i*10\n",
    "    osszeslink.append(get_links((url+str(j))))      \n",
    "all_time = datetime.datetime.now() - start\n",
    "print ('A lefutási idő: ' + str(all_time)) \n",
    "print (len(osszeslink))"
   ]
  },
  {
   "cell_type": "code",
   "execution_count": 45,
   "metadata": {},
   "outputs": [
    {
     "name": "stdout",
     "output_type": "stream",
     "text": [
      "https://www.indeed.com/viewjob?jk=e55b7917478dd4ec\n",
      "https://www.indeed.com/viewjob?jk=2dbce4b757d98963\n",
      "https://www.indeed.com/viewjob?jk=6e50cace3303de8f\n",
      "https://www.indeed.com/viewjob?jk=9fe262600976fc3d\n",
      "https://www.indeed.com/viewjob?jk=79331c3a53b480a4\n",
      "https://www.indeed.com/viewjob?jk=d34d3150c1102208\n",
      "https://www.indeed.com/viewjob?jk=5715178899d21c84\n",
      "https://www.indeed.com/viewjob?jk=257d56fb9ff98e2b\n",
      "https://www.indeed.com/viewjob?jk=e4f8c39d2fce9c52\n",
      "https://www.indeed.com/viewjob?jk=71465fe6db296526\n"
     ]
    }
   ],
   "source": [
    "## random check\n",
    "for i in range(0,2):\n",
    "    for j in range(0,5):\n",
    "        c=osszeslink[i][j]\n",
    "        print (belsolink+str(c[len(c)-45:len(c)-29]))\n",
    "### after clicking I can see whether these exist"
   ]
  },
  {
   "cell_type": "code",
   "execution_count": 40,
   "metadata": {
    "scrolled": true
   },
   "outputs": [
    {
     "name": "stdout",
     "output_type": "stream",
     "text": [
      "{'munkaleiras': 'Do you have a passion for caring for seniors? Do you have talent as a care provider?\\n\\n\\nIf you have been a caregiver in a facility setting for at least 1-2 years you have the experience that Balanced Home Care is looking for!\\n\\n\\nHiring for the following Independent Living Facility location:\\n\\n\\nOakmont Livonia\\n\\n\\nMust be available weekends!\\n\\n\\nFlexible schedules\\n\\n\\nMonthly schedules\\n\\n\\nStarting pay : $9.50 an hour\\n\\n\\nPrimary Duties\\n\\n\\nProvide skilled personal assistance including, but not limited to, bathing, dressing, personal grooming and hygiene, toileting and elimination, mobility, laundry, errands, transportation and any other assistance needed to assure that all personal (non-medical) needs are met, within the parameters established in the Client’s Service Agreement.\\n\\n\\nThe Balanced Difference! Employee Benefits include:\\n\\n\\n· Tuition reimbursement\\n\\n\\n· Training programs with raises upon completion\\n\\n\\n· Paid time off\\n\\n\\n· Employee referral bonus program\\n\\n\\n· An Employee Appreciation Committee\\n\\n\\n· Quarterly raffles with BIG prizes\\n\\n\\n· Voluntary on call bonuses\\n\\n\\n· Annual holiday party for all staff\\n\\n\\n· Employee of the month program with bonuses and giveaways\\n\\n\\n· And many more!'}\n",
      "{'munkaleiras': 'Do you have a passion for caring for seniors? Do you have talent as a care provider?\\n\\n\\nIf you have been a caregiver in a facility setting for at least 1-2 years you have the experience that Balanced Home Care is looking for!\\n\\n\\nHiring for the following Independent Living Facility location:\\n\\n\\nOakmont Livonia\\n\\n\\nMust be available weekends!\\n\\n\\nFlexible schedules\\n\\n\\nMonthly schedules\\n\\n\\nStarting pay : $9.50 an hour\\n\\n\\nPrimary Duties\\n\\n\\nProvide skilled personal assistance including, but not limited to, bathing, dressing, personal grooming and hygiene, toileting and elimination, mobility, laundry, errands, transportation and any other assistance needed to assure that all personal (non-medical) needs are met, within the parameters established in the Client’s Service Agreement.\\n\\n\\nThe Balanced Difference! Employee Benefits include:\\n\\n\\n· Tuition reimbursement\\n\\n\\n· Training programs with raises upon completion\\n\\n\\n· Paid time off\\n\\n\\n· Employee referral bonus program\\n\\n\\n· An Employee Appreciation Committee\\n\\n\\n· Quarterly raffles with BIG prizes\\n\\n\\n· Voluntary on call bonuses\\n\\n\\n· Annual holiday party for all staff\\n\\n\\n· Employee of the month program with bonuses and giveaways\\n\\n\\n· And many more!'}\n",
      "{'munkaleiras': 'Customer oriented position involving actively engaging in the selling process while working as a cashier, operating the espresso machine, brewers, and grinders; and cleaning.Energetic, alert, observant, confident, clean, neatly groomed, friendly, upbeat and enthusiastic person able to perform multiple tasks, follow directions, and have good money handling skills.Job Types: Full-time, Part-timeSalary: $9.40 /hourRequired experience:coffee: 1 yearRequired education:High schoolJob Location:Rochester Hills, MI'}\n",
      "{'munkaleiras': 'General purpose\\nThe counter/cash server is expected to sell to and serve all guests and collect for all meals served.\\n\\nEssential (primary) functions\\nProvide hospitable service to all guests following Steak n Shakes steps of service\\nMaintain guest sensitivity\\nTake orders and accurately key them into the POS system\\nPrepare and deliver drinks and other menu items in an expedient manner\\nProcess cash, credit and coupon transactions quickly\\nStock, restock, clean and sanitize the counter/cash area\\nMaintain safety and security procedures as required\\nMaintain uniform standards at all times\\nMaintain Company policies and standards at all times\\nComplete any and all other tasks as assigned\\nEssential job requirements\\nAbility to understand the speech of others\\nUnderstandable speech\\nStanding, bending, stretching and walking throughout the shift\\nMaintain personal hygiene\\nLift and carry a minimum of 30 pounds\\nBalance a tray\\nPush and pull heavy objects\\nAbility to use a computer register\\nBasic reading, writing, and math skills\\nRetain verbal requests\\nRetain menu item knowledge\\nAbility to market the Steak n Shake menu\\nAbility to handle guest complaints\\nWork well with others\\nAbility to count change\\nMaintain composure under stress\\n\\nBrand: Steak n Shake\\nAddress: 17200 South Middlebelt Livonia, MI - 48152\\nProperty Description: Indianapolis-Store 403\\nProperty Number: 0403'}\n"
     ]
    }
   ],
   "source": [
    "##shows a few sites summary\n",
    "for i in range(8,10):\n",
    "    for j in range(8,10):\n",
    "        c=osszeslink[i][j]\n",
    "        adatpont= belsolink+str(c[len(c)-45:len(c)-29])\n",
    "        szovegunk = dict()\n",
    "        szovegunk['munkaleiras'] = oldalbeolvas(adatpont)\n",
    "        print (szovegunk)"
   ]
  },
  {
   "cell_type": "code",
   "execution_count": 44,
   "metadata": {},
   "outputs": [
    {
     "name": "stdout",
     "output_type": "stream",
     "text": [
      "Itt nem működik: e8eedc29d9a9aa63 Itt tart: 3;4\n",
      "Itt nem működik: c4fa7fdc78098da1 Itt tart: 3;8\n",
      "Itt nem működik: 60720a97946ab71f Itt tart: 6;3\n",
      "A lefutási idő: 0:02:20.706780\n"
     ]
    }
   ],
   "source": [
    "## running the previous functions in a loop and saving the results into a CSV\n",
    "import datetime\n",
    "with open('usjobs.csv', 'w') as csvfile:\n",
    "    fieldnames =  ['munkaleiras', 'link']\n",
    "    writer = csv.DictWriter(csvfile, fieldnames=fieldnames)\n",
    "    writer.writeheader()\n",
    "    start = datetime.datetime.now()\n",
    "    all_project = list ()\n",
    "   \n",
    "    for i in range(0,100):\n",
    "        for j in range(0,10):\n",
    "            try:\n",
    "                c=osszeslink[i][j]\n",
    "                \n",
    "                adatpont= belsolink+str(c[len(c)-45:len(c)-29])\n",
    "                szovegunk = dict()\n",
    "                szovegunk['munkaleiras'] = str(oldalbeolvas(adatpont))\n",
    "                \n",
    "                szovegunk['link'] = belsolink+str(c[len(c)-45:len(c)-29])\n",
    "                writer.writerow(szovegunk)\n",
    "            except:\n",
    "                print (\"Itt nem működik: \" + str(c[len(c)-45:len(c)-29]) + \" Itt tart: \" + str(i) + \";\" + str(j))\n",
    "\n",
    "            \n",
    "            \n",
    "    all_time = datetime.datetime.now() - start\n",
    "    print ('A lefutási idő: ' + str(all_time))            "
   ]
  }
 ],
 "metadata": {
  "anaconda-cloud": {},
  "kernelspec": {
   "display_name": "Python 3",
   "language": "python",
   "name": "python3"
  },
  "language_info": {
   "codemirror_mode": {
    "name": "ipython",
    "version": 3
   },
   "file_extension": ".py",
   "mimetype": "text/x-python",
   "name": "python",
   "nbconvert_exporter": "python",
   "pygments_lexer": "ipython3",
   "version": "3.7.4"
  }
 },
 "nbformat": 4,
 "nbformat_minor": 1
}
