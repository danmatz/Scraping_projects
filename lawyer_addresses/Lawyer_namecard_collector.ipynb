{
 "cells": [
  {
   "cell_type": "markdown",
   "metadata": {},
   "source": [
    "## Project: Lawyer namecard collector\n",
    "    - short description: Scrape public information of Hungarian lawyers from the official website\n",
    "    - Opens website, goes to first page of list, then Selenium clicks on next page until the last one\n",
    "    - Several inconsistencies through out the original webpage, so I had to figure out a few workarounds\n",
    "    - webpage has been updated, last successful run: 2016.11.01"
   ]
  },
  {
   "cell_type": "code",
   "execution_count": 2,
   "metadata": {},
   "outputs": [],
   "source": [
    "# [1] Packages\n",
    "import numpy as np\n",
    "\n",
    "import requests\n",
    "from selenium.common.exceptions import NoSuchElementException\n",
    "from bs4 import BeautifulSoup\n",
    "import csv\n",
    "import sys\n",
    "from selenium import webdriver\n",
    "from selenium.webdriver.common.keys import Keys\n",
    "from lxml import etree\n",
    "try:\n",
    "    from urlparse import urljoin\n",
    "except:\n",
    "    from urllib.parse import urljoin\n",
    "    \n",
    "mainurl = \"http://www.magyarugyvedikamara.hu/tart/lawyerdata?status=aktiv&functional=sf.lawyer\""
   ]
  },
  {
   "cell_type": "code",
   "execution_count": 4,
   "metadata": {},
   "outputs": [],
   "source": [
    "# [2] downloads all the data for one lawyer in one cell, variables are in Hungarian\n",
    "def lawyer_card (driver,k):\n",
    "    page_list = list()\n",
    "    try:\n",
    "        pag=driver.page_source\n",
    "        soup=BeautifulSoup(pag, \"lxml\")\n",
    "        main = soup.find('div', attrs={'id':'main'})\n",
    "        content=main.find_next('div', attrs={'id':'content'})\n",
    "        all_lawyer=content.find_all(\"div\", class_=\"ugyvedcard\")\n",
    "        for i in all_lawyer:\n",
    "            lawyer_card_dict= dict()\n",
    "            name_=i.find_all('th')\n",
    "            lawyer_card_dict['name']=(name_[1].text)[:-1]\n",
    "            rows=i.find_all('td')\n",
    "            for k in range(1,len(rows)):\n",
    "                texts_=['kamara' in rows[k].text,\n",
    "                        'iroda cím' in rows[k].text,\n",
    "                        'jogterület' in rows[k].text,\n",
    "                        'irodai e-mail cím:' in rows[k].text,\n",
    "                        'honlap:' in rows[k].text,\n",
    "                        'telefon:' in rows[k].text]\n",
    "                keys_=['megye','cim','jogkor','mail','honlap','tel']\n",
    "                lawyer_card_dict[np.select(texts_,keys_)]=rows[k+1].text      \n",
    "            page_list.append(lawyer_card_dict)\n",
    "    except:\n",
    "        page_error(driver, k)\n",
    "    return (page_list)"
   ]
  },
  {
   "cell_type": "code",
   "execution_count": 5,
   "metadata": {},
   "outputs": [],
   "source": [
    "# [3] a few random pages differ from the others, this is a debug function to tell me what pages acts weird.\n",
    "def page_error (driver,k):\n",
    "    try:\n",
    "        pag=driver.page_source\n",
    "        soup=BeautifulSoup(pag, \"lxml\")\n",
    "        main = soup.find('div', attrs={'id':'main'})\n",
    "        content=main.find_next('div', attrs={'id':'content'})\n",
    "        page_num=content.find_next(\"ul\", class_=\"pucu\")\n",
    "        return ('Error on the following page: '+str(page_num.text[0:12]))\n",
    "    except:\n",
    "        print (\"Error without page number counter is at: \" + str(k))"
   ]
  },
  {
   "cell_type": "code",
   "execution_count": 6,
   "metadata": {
    "scrolled": true
   },
   "outputs": [
    {
     "ename": "WebDriverException",
     "evalue": "Message: 'geckodriver' executable needs to be in PATH. \n",
     "output_type": "error",
     "traceback": [
      "\u001b[1;31m---------------------------------------------------------------------------\u001b[0m",
      "\u001b[1;31mFileNotFoundError\u001b[0m                         Traceback (most recent call last)",
      "\u001b[1;32m~\\Anaconda3\\lib\\site-packages\\selenium\\webdriver\\common\\service.py\u001b[0m in \u001b[0;36mstart\u001b[1;34m(self)\u001b[0m\n\u001b[0;32m     75\u001b[0m                                             \u001b[0mstderr\u001b[0m\u001b[1;33m=\u001b[0m\u001b[0mself\u001b[0m\u001b[1;33m.\u001b[0m\u001b[0mlog_file\u001b[0m\u001b[1;33m,\u001b[0m\u001b[1;33m\u001b[0m\u001b[1;33m\u001b[0m\u001b[0m\n\u001b[1;32m---> 76\u001b[1;33m                                             stdin=PIPE)\n\u001b[0m\u001b[0;32m     77\u001b[0m         \u001b[1;32mexcept\u001b[0m \u001b[0mTypeError\u001b[0m\u001b[1;33m:\u001b[0m\u001b[1;33m\u001b[0m\u001b[1;33m\u001b[0m\u001b[0m\n",
      "\u001b[1;32m~\\Anaconda3\\lib\\subprocess.py\u001b[0m in \u001b[0;36m__init__\u001b[1;34m(self, args, bufsize, executable, stdin, stdout, stderr, preexec_fn, close_fds, shell, cwd, env, universal_newlines, startupinfo, creationflags, restore_signals, start_new_session, pass_fds, encoding, errors, text)\u001b[0m\n\u001b[0;32m    774\u001b[0m                                 \u001b[0merrread\u001b[0m\u001b[1;33m,\u001b[0m \u001b[0merrwrite\u001b[0m\u001b[1;33m,\u001b[0m\u001b[1;33m\u001b[0m\u001b[1;33m\u001b[0m\u001b[0m\n\u001b[1;32m--> 775\u001b[1;33m                                 restore_signals, start_new_session)\n\u001b[0m\u001b[0;32m    776\u001b[0m         \u001b[1;32mexcept\u001b[0m\u001b[1;33m:\u001b[0m\u001b[1;33m\u001b[0m\u001b[1;33m\u001b[0m\u001b[0m\n",
      "\u001b[1;32m~\\Anaconda3\\lib\\subprocess.py\u001b[0m in \u001b[0;36m_execute_child\u001b[1;34m(self, args, executable, preexec_fn, close_fds, pass_fds, cwd, env, startupinfo, creationflags, shell, p2cread, p2cwrite, c2pread, c2pwrite, errread, errwrite, unused_restore_signals, unused_start_new_session)\u001b[0m\n\u001b[0;32m   1177\u001b[0m                                          \u001b[0mos\u001b[0m\u001b[1;33m.\u001b[0m\u001b[0mfspath\u001b[0m\u001b[1;33m(\u001b[0m\u001b[0mcwd\u001b[0m\u001b[1;33m)\u001b[0m \u001b[1;32mif\u001b[0m \u001b[0mcwd\u001b[0m \u001b[1;32mis\u001b[0m \u001b[1;32mnot\u001b[0m \u001b[1;32mNone\u001b[0m \u001b[1;32melse\u001b[0m \u001b[1;32mNone\u001b[0m\u001b[1;33m,\u001b[0m\u001b[1;33m\u001b[0m\u001b[1;33m\u001b[0m\u001b[0m\n\u001b[1;32m-> 1178\u001b[1;33m                                          startupinfo)\n\u001b[0m\u001b[0;32m   1179\u001b[0m             \u001b[1;32mfinally\u001b[0m\u001b[1;33m:\u001b[0m\u001b[1;33m\u001b[0m\u001b[1;33m\u001b[0m\u001b[0m\n",
      "\u001b[1;31mFileNotFoundError\u001b[0m: [WinError 2] The system cannot find the file specified",
      "\nDuring handling of the above exception, another exception occurred:\n",
      "\u001b[1;31mWebDriverException\u001b[0m                        Traceback (most recent call last)",
      "\u001b[1;32m<ipython-input-6-47982a863c40>\u001b[0m in \u001b[0;36m<module>\u001b[1;34m\u001b[0m\n\u001b[0;32m      1\u001b[0m \u001b[1;31m#[4] Reads url, opens website, collects data by calling previous functions\u001b[0m\u001b[1;33m\u001b[0m\u001b[1;33m\u001b[0m\u001b[1;33m\u001b[0m\u001b[0m\n\u001b[1;32m----> 2\u001b[1;33m \u001b[0mdriver\u001b[0m\u001b[1;33m=\u001b[0m\u001b[0mwebdriver\u001b[0m\u001b[1;33m.\u001b[0m\u001b[0mFirefox\u001b[0m\u001b[1;33m(\u001b[0m\u001b[1;33m)\u001b[0m\u001b[1;33m\u001b[0m\u001b[1;33m\u001b[0m\u001b[0m\n\u001b[0m\u001b[0;32m      3\u001b[0m \u001b[0mdriver\u001b[0m\u001b[1;33m.\u001b[0m\u001b[0mget\u001b[0m\u001b[1;33m(\u001b[0m\u001b[0mmainurl\u001b[0m\u001b[1;33m)\u001b[0m\u001b[1;33m\u001b[0m\u001b[1;33m\u001b[0m\u001b[0m\n\u001b[0;32m      4\u001b[0m \u001b[0mdriver\u001b[0m\u001b[1;33m.\u001b[0m\u001b[0mfind_element_by_xpath\u001b[0m\u001b[1;33m(\u001b[0m\u001b[1;34m'/html/body/div/div[3]/div[2]/div[1]/form/table/tbody/tr[6]/td[2]/button'\u001b[0m\u001b[1;33m)\u001b[0m\u001b[1;33m.\u001b[0m\u001b[0mclick\u001b[0m\u001b[1;33m(\u001b[0m\u001b[1;33m)\u001b[0m\u001b[1;33m\u001b[0m\u001b[1;33m\u001b[0m\u001b[0m\n\u001b[0;32m      5\u001b[0m \u001b[0msolution_list\u001b[0m \u001b[1;33m=\u001b[0m\u001b[0mlist\u001b[0m\u001b[1;33m(\u001b[0m\u001b[1;33m)\u001b[0m\u001b[1;33m\u001b[0m\u001b[1;33m\u001b[0m\u001b[0m\n",
      "\u001b[1;32m~\\Anaconda3\\lib\\site-packages\\selenium\\webdriver\\firefox\\webdriver.py\u001b[0m in \u001b[0;36m__init__\u001b[1;34m(self, firefox_profile, firefox_binary, timeout, capabilities, proxy, executable_path, options, service_log_path, firefox_options, service_args, desired_capabilities, log_path, keep_alive)\u001b[0m\n\u001b[0;32m    162\u001b[0m                 \u001b[0mservice_args\u001b[0m\u001b[1;33m=\u001b[0m\u001b[0mservice_args\u001b[0m\u001b[1;33m,\u001b[0m\u001b[1;33m\u001b[0m\u001b[1;33m\u001b[0m\u001b[0m\n\u001b[0;32m    163\u001b[0m                 log_path=service_log_path)\n\u001b[1;32m--> 164\u001b[1;33m             \u001b[0mself\u001b[0m\u001b[1;33m.\u001b[0m\u001b[0mservice\u001b[0m\u001b[1;33m.\u001b[0m\u001b[0mstart\u001b[0m\u001b[1;33m(\u001b[0m\u001b[1;33m)\u001b[0m\u001b[1;33m\u001b[0m\u001b[1;33m\u001b[0m\u001b[0m\n\u001b[0m\u001b[0;32m    165\u001b[0m \u001b[1;33m\u001b[0m\u001b[0m\n\u001b[0;32m    166\u001b[0m             \u001b[0mcapabilities\u001b[0m\u001b[1;33m.\u001b[0m\u001b[0mupdate\u001b[0m\u001b[1;33m(\u001b[0m\u001b[0moptions\u001b[0m\u001b[1;33m.\u001b[0m\u001b[0mto_capabilities\u001b[0m\u001b[1;33m(\u001b[0m\u001b[1;33m)\u001b[0m\u001b[1;33m)\u001b[0m\u001b[1;33m\u001b[0m\u001b[1;33m\u001b[0m\u001b[0m\n",
      "\u001b[1;32m~\\Anaconda3\\lib\\site-packages\\selenium\\webdriver\\common\\service.py\u001b[0m in \u001b[0;36mstart\u001b[1;34m(self)\u001b[0m\n\u001b[0;32m     81\u001b[0m                 raise WebDriverException(\n\u001b[0;32m     82\u001b[0m                     \"'%s' executable needs to be in PATH. %s\" % (\n\u001b[1;32m---> 83\u001b[1;33m                         os.path.basename(self.path), self.start_error_message)\n\u001b[0m\u001b[0;32m     84\u001b[0m                 )\n\u001b[0;32m     85\u001b[0m             \u001b[1;32melif\u001b[0m \u001b[0merr\u001b[0m\u001b[1;33m.\u001b[0m\u001b[0merrno\u001b[0m \u001b[1;33m==\u001b[0m \u001b[0merrno\u001b[0m\u001b[1;33m.\u001b[0m\u001b[0mEACCES\u001b[0m\u001b[1;33m:\u001b[0m\u001b[1;33m\u001b[0m\u001b[1;33m\u001b[0m\u001b[0m\n",
      "\u001b[1;31mWebDriverException\u001b[0m: Message: 'geckodriver' executable needs to be in PATH. \n"
     ]
    }
   ],
   "source": [
    "#[4] Reads url, opens website, collects data by calling previous functions\n",
    "driver=webdriver.Firefox()\n",
    "driver.get(mainurl)\n",
    "driver.find_element_by_xpath('/html/body/div/div[3]/div[2]/div[1]/form/table/tbody/tr[6]/td[2]/button').click()\n",
    "solution_list =list()\n",
    "print (\"11:01\")\n",
    "for j in range(0,4):\n",
    "    print (j)\n",
    "    solution_list.append(lawyer_card(driver,j))\n",
    "    try:\n",
    "        driver.find_element_by_xpath('/html/body/div/div[3]/div[2]/ul/li/h4/a['+str(j)+']').click()\n",
    "    except: \n",
    "        page_error(driver, j)\n",
    "for k in range(0,120):\n",
    "    print (k)\n",
    "    solution_list.append(lawyer_card(driver,k))\n",
    "    try:\n",
    "        driver.find_element_by_xpath('/html/body/div/div[3]/div[2]/ul/li/h4/a[3]').click()\n",
    "    except: \n",
    "        page_error(driver,k)\n",
    "try:\n",
    "    driver.find_element_by_xpath('/html/body/div/div[3]/div[2]/ul/li/h4/a[4]').click()\n",
    "    solution_list.append(lawyer_card(driver,k=4))\n",
    "except:\n",
    "    print (\"Is there last page?\")\n",
    "driver.close()"
   ]
  },
  {
   "cell_type": "code",
   "execution_count": 48,
   "metadata": {},
   "outputs": [
    {
     "name": "stdout",
     "output_type": "stream",
     "text": [
      "Az első név akit beolvasott: Dr ABAY PÉTER\n",
      "Az utolsó név akit beolvasott: Dr BÁKONYI LÁSZLÓ\n"
     ]
    }
   ],
   "source": [
    "#[5] cleanse database when all data got scraped\n",
    "\n",
    "clean_list = list()\n",
    "for i in range(0,len(solution_list)):\n",
    "    clean_list.append(solution[i])\n",
    "full_list=list()\n",
    "for i in range(1, len(clean_list)):\n",
    "    for j in range(1,   len(clean_list[i])):\n",
    "        full_list.append(clean_list[i][j])\n",
    "print (\"Fist name to found: \" + full_list[0]['name'])\n",
    "print (\"Last name to found: \" + full_list[-1]['name'])"
   ]
  },
  {
   "cell_type": "code",
   "execution_count": 44,
   "metadata": {
    "collapsed": true
   },
   "outputs": [],
   "source": [
    "#[6] export it to a csv\n",
    "with open('lawyer_results.csv', encoding='utf-8', mode='w+') as csvfile:\n",
    "        # a csvfile oszlopnevei kerüljenek a listába\n",
    "        fieldnames =  ['name', 'megye', 'cim', 'tel', 'mail','jogkor','honlap']\n",
    "        writer = csv.DictWriter(csvfile, fieldnames=fieldnames)\n",
    "        writer.writeheader()\n",
    "        for i in range(1,len(clean_list)):\n",
    "            for j in range (1, len(clean_list[i])):\n",
    "                #writer.writerow({k:v.encode('utf8') for k,v in mukodolista[i][j].items()})\n",
    "                writer.writerow(clean_list[i][j])"
   ]
  }
 ],
 "metadata": {
  "anaconda-cloud": {},
  "kernelspec": {
   "display_name": "Python 3",
   "language": "python",
   "name": "python3"
  },
  "language_info": {
   "codemirror_mode": {
    "name": "ipython",
    "version": 3
   },
   "file_extension": ".py",
   "mimetype": "text/x-python",
   "name": "python",
   "nbconvert_exporter": "python",
   "pygments_lexer": "ipython3",
   "version": "3.7.4"
  }
 },
 "nbformat": 4,
 "nbformat_minor": 1
}
