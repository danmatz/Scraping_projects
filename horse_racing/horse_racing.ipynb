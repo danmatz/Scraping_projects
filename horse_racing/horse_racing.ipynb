{
 "cells": [
  {
   "cell_type": "code",
   "execution_count": null,
   "metadata": {},
   "outputs": [],
   "source": [
    "#Downloading all previous results for Hungarian Horse Racing"
   ]
  },
  {
   "cell_type": "code",
   "execution_count": 1,
   "metadata": {},
   "outputs": [
    {
     "ename": "NameError",
     "evalue": "name 'webdriver' is not defined",
     "output_type": "error",
     "traceback": [
      "\u001b[1;31m---------------------------------------------------------------------------\u001b[0m",
      "\u001b[1;31mNameError\u001b[0m                                 Traceback (most recent call last)",
      "\u001b[1;32m<ipython-input-1-e2a1be853f13>\u001b[0m in \u001b[0;36m<module>\u001b[1;34m\u001b[0m\n\u001b[1;32m----> 1\u001b[1;33m \u001b[0mdriver\u001b[0m\u001b[1;33m=\u001b[0m\u001b[0mwebdriver\u001b[0m\u001b[1;33m.\u001b[0m\u001b[0mFirefox\u001b[0m\u001b[1;33m(\u001b[0m\u001b[1;33m)\u001b[0m\u001b[1;33m\u001b[0m\u001b[1;33m\u001b[0m\u001b[0m\n\u001b[0m\u001b[0;32m      2\u001b[0m \u001b[0mdriver\u001b[0m\u001b[1;33m.\u001b[0m\u001b[0mget\u001b[0m\u001b[1;33m(\u001b[0m\u001b[0mmainurl\u001b[0m\u001b[1;33m)\u001b[0m\u001b[1;33m\u001b[0m\u001b[1;33m\u001b[0m\u001b[0m\n\u001b[0;32m      3\u001b[0m \u001b[0mdriver\u001b[0m\u001b[1;33m.\u001b[0m\u001b[0mfind_element_by_xpath\u001b[0m\u001b[1;33m(\u001b[0m\u001b[1;34m'/html/body/table/tbody/tr/td/table/tbody/tr/td/table/tbody/tr/td[1]/table/tbody/tr/td[3]/table[2]/tbody/tr[2]/td/table[3]'\u001b[0m\u001b[1;33m)\u001b[0m\u001b[1;33m\u001b[0m\u001b[1;33m\u001b[0m\u001b[0m\n\u001b[0;32m      4\u001b[0m \u001b[0mpag\u001b[0m\u001b[1;33m=\u001b[0m\u001b[0mdriver\u001b[0m\u001b[1;33m.\u001b[0m\u001b[0mpage_source\u001b[0m\u001b[1;33m\u001b[0m\u001b[1;33m\u001b[0m\u001b[0m\n\u001b[0;32m      5\u001b[0m \u001b[0msoup\u001b[0m\u001b[1;33m=\u001b[0m\u001b[0mBeautifulSoup\u001b[0m\u001b[1;33m(\u001b[0m\u001b[0mpag\u001b[0m\u001b[1;33m,\u001b[0m \u001b[1;34m\"lxml\"\u001b[0m\u001b[1;33m)\u001b[0m\u001b[1;33m\u001b[0m\u001b[1;33m\u001b[0m\u001b[0m\n",
      "\u001b[1;31mNameError\u001b[0m: name 'webdriver' is not defined"
     ]
    }
   ],
   "source": [
    "driver=webdriver.Firefox()\n",
    "driver.get(mainurl)\n",
    "driver.find_element_by_xpath('/html/body/table/tbody/tr/td/table/tbody/tr/td/table/tbody/tr/td[1]/table/tbody/tr/td[3]/table[2]/tbody/tr[2]/td/table[3]')\n",
    "pag=driver.page_source\n",
    "soup=BeautifulSoup(pag, \"lxml\")\n",
    "lovak=content.find(\"div\", class_=\"regtd\")"
   ]
  },
  {
   "cell_type": "code",
   "execution_count": 130,
   "metadata": {
    "collapsed": true
   },
   "outputs": [],
   "source": [
    "import requests\n",
    "from bs4 import BeautifulSoup\n",
    "import csv\n",
    "import sys\n",
    "from lxml import etree\n",
    "try:\n",
    "    from urlparse import urljoin\n",
    "except:\n",
    "    from urllib.parse import urljoin\n",
    "url = \"http://195.228.135.95/php/geredmeny.php?id=\""
   ]
  },
  {
   "cell_type": "code",
   "execution_count": 9,
   "metadata": {
    "collapsed": true
   },
   "outputs": [],
   "source": [
    "def get_page(url):\n",
    "    page = requests.get(url)\n",
    "    if page.status_code == requests.codes.ok:\n",
    "        return BeautifulSoup(page.content, 'lxml')"
   ]
  },
  {
   "cell_type": "code",
   "execution_count": 109,
   "metadata": {},
   "outputs": [],
   "source": [
    "all_project = list ()\n",
    "for i in range(14495,14500):\n",
    "    try:\n",
    "        mainurl=url+str(i)\n",
    "        all_project.append(adat(mainurl))\n",
    "    except:\n",
    "        print (\"ilyen oldal nincs: \" + str(i))"
   ]
  },
  {
   "cell_type": "code",
   "execution_count": 110,
   "metadata": {},
   "outputs": [
    {
     "name": "stdout",
     "output_type": "stream",
     "text": [
      "{'ev': '2016.12.03.', 'helyezes': '2', 'futamszam': 'Startidő: 17:43 Éves futamszám: 421.', 'odds': '20', 'lovakdb': 8}\n"
     ]
    }
   ],
   "source": [
    "print (all_project[2][1])"
   ]
  },
  {
   "cell_type": "code",
   "execution_count": 126,
   "metadata": {},
   "outputs": [
    {
     "name": "stdout",
     "output_type": "stream",
     "text": [
      "Dividends/1 HUF\n"
     ]
    }
   ],
   "source": [
    "proba=get_page(url+str(14498)).find_all(attrs = {\"class\":\"eredOszt\"})[-1]\n",
    "proba2=proba.find_all(attrs = {\"class\":\"angol3\"})\n",
    "print (proba2[-1].text)"
   ]
  },
  {
   "cell_type": "code",
   "execution_count": 1,
   "metadata": {},
   "outputs": [],
   "source": [
    "def adat(mainurl):\n",
    "    t_project = list ()\n",
    "    for i in range (len(get_page(mainurl).find_all(attrs = {\"class\":\"eredTD5\"}))):\n",
    "        project = dict ()\n",
    "        project ['helyezes'] = str(i+1)\n",
    "        project ['odds'] = (get_page(mainurl).find_all(attrs = {\"class\":\"eredTD5\"})[i].text)\n",
    "        project ['ev'] = (get_page(mainurl).find_all(attrs = {\"class\":\"gdbTH2\"})[1].text)\n",
    "        project ['futamszam'] = (get_page(mainurl).find_all(attrs = {\"class\":\"gdbTH2\"})[2].text)\n",
    "        project ['lovakdb'] =(len(get_page(mainurl).find_all(attrs = {\"class\":\"eredTD5\"})))\n",
    "        div=get_page(url+str(14498)).find_all(attrs = {\"class\":\"eredOszt\"})[-1]\n",
    "        div2=div.find_all(attrs = {\"class\":\"angol3\"})\n",
    "        project ['div']=div2[-1].text\n",
    "        t_project.append(project)\n",
    "    return (t_project)"
   ]
  },
  {
   "cell_type": "code",
   "execution_count": 131,
   "metadata": {},
   "outputs": [
    {
     "name": "stdout",
     "output_type": "stream",
     "text": [
      "A lefutási idő: 0:01:22.937050\n"
     ]
    }
   ],
   "source": [
    "import datetime\n",
    "with open('lovak.csv', 'w') as csvfile:\n",
    "    oldalszam=5\n",
    "    # a csvfile oszlopnevei kerüljenek a listába\n",
    "    fieldnames =  ['helyezes', 'odds', 'ev', 'futamszam', 'lovakdb', 'div']\n",
    "    writer = csv.DictWriter(csvfile, fieldnames=fieldnames)\n",
    "    writer.writeheader()\n",
    "    start = datetime.datetime.now()\n",
    "    all_project = list ()\n",
    "        for i in range(5800-oldalszam,5800):\n",
    "        try:\n",
    "            mainurl=url+str(i)\n",
    "            all_project.append(adat(mainurl))\n",
    "        except:\n",
    "            print (\"ilyen oldal nincs: \" + str(i))\n",
    "            \n",
    "    for i in range(len(all_project)):\n",
    "        for j in range(len(all_project[i])):\n",
    "            writer.writerow(all_project[i][j])\n",
    "            \n",
    "    all_time = datetime.datetime.now() - start\n",
    "    print ('A lefutási idő: ' + str(all_time))            "
   ]
  }
 ],
 "metadata": {
  "anaconda-cloud": {},
  "kernelspec": {
   "display_name": "Python 3",
   "language": "python",
   "name": "python3"
  },
  "language_info": {
   "codemirror_mode": {
    "name": "ipython",
    "version": 3
   },
   "file_extension": ".py",
   "mimetype": "text/x-python",
   "name": "python",
   "nbconvert_exporter": "python",
   "pygments_lexer": "ipython3",
   "version": "3.7.4"
  }
 },
 "nbformat": 4,
 "nbformat_minor": 1
}
